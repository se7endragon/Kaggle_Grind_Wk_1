{
 "cells": [
  {
   "cell_type": "code",
   "execution_count": 1,
   "metadata": {},
   "outputs": [],
   "source": [
    "import pandas as pd\n",
    "import numpy as np\n",
    "import matplotlib.pyplot as plt\n",
    "import seaborn as sns\n",
    "\n",
    "from sklearn.ensemble import GradientBoostingClassifier\n",
    "from sklearn.preprocessing import StandardScaler\n",
    "from sklearn.model_selection import GridSearchCV"
   ]
  },
  {
   "cell_type": "code",
   "execution_count": 2,
   "metadata": {},
   "outputs": [],
   "source": [
    "train = pd.read_csv(\"train.csv\")\n",
    "test = pd.read_csv(\"test.csv\")\n",
    "gender_submission = pd.read_csv(\"gender_submission.csv\")"
   ]
  },
  {
   "cell_type": "markdown",
   "metadata": {},
   "source": [
    "## Model: Gradient Boost\n",
    "\n",
    "### 변수 처리 방법\n",
    "- PassengerID : 제거\n",
    "- Name: 모델링에서 사용 X\n",
    "- SIbSp : integer 로 처리\n",
    "- Parch: integer 로 처리\n",
    "- Ticket : 해당 컬럼 자체는 사용하지 않고 추후 group 컬럼으로 unique count 해서 따로 만듦\n",
    "- Pclass : integer 처리(1,2,3 그대로 냅둠)\n",
    "- Age : 연속형 변수. null 값은 mean 으로 처리\n",
    "- Cabin : 앞 알파벳만 따와서 categorical 로 사용\n",
    "- Fare : 단체 티켓 가격 합쳐진 것은 1인당 가격으로 수정해서 사용. 연속형 변수\n",
    "- Embarked : one-hot encoding / null 값은 drop\n",
    "\n",
    "### 생성 변수\n",
    "- group : 해당 ticket 번호를 가진 사람이 2명 이상일 경우 -> group / 아니면 0\n",
    "\n",
    "\n",
    "### scaling\n",
    "- X"
   ]
  },
  {
   "cell_type": "code",
   "execution_count": 3,
   "metadata": {},
   "outputs": [],
   "source": [
    "# embarked null 인 값들 제거\n",
    "train = train[train['Embarked'].isnull()==False]\n",
    "\n",
    "# target  variable 따로 떼어냄\n",
    "target = train[\"Survived\"]\n",
    "\n",
    "# 필요없는 변수/타겟 변수 제거\n",
    "train.drop(['PassengerId','Name',\"Survived\"],1,inplace=True)\n",
    "\n",
    "# Age null 값 처리\n",
    "train['Age'].fillna(train['Age'].mean(),inplace=True)"
   ]
  },
  {
   "cell_type": "code",
   "execution_count": 5,
   "metadata": {},
   "outputs": [],
   "source": [
    "#Group 변수 생성\n",
    "\n",
    "#Family size랑 dup_count 중 큰걸로 fare 나누기.\n",
    "train['Family_size'] = train['SibSp']+train['Parch']+1\n",
    "train['dup_count'] = train.groupby(['Ticket'])['Ticket'].transform('count')\n",
    "train['Group'] = ~((train['Family_size'] == 1) & (train['dup_count'] == 1))\n",
    "train['Group_count'] = train[['Family_size','dup_count']].max(axis=1)\n",
    "train['Fare_ind'] = train['Fare']/train['Group_count']\n",
    "\n",
    "train['Cabin_alpha'] = train[train['Cabin'].isnull()==False]['Cabin'].map(lambda x: x[0])"
   ]
  },
  {
   "cell_type": "code",
   "execution_count": 6,
   "metadata": {},
   "outputs": [],
   "source": [
    "train = train.drop(['Family_size','dup_count','Group_count',\"Fare\",'Ticket','Cabin'],1)\n",
    "train['Cabin_alpha'].fillna(\"N\",inplace=True)"
   ]
  },
  {
   "cell_type": "code",
   "execution_count": 7,
   "metadata": {},
   "outputs": [],
   "source": [
    "train = pd.get_dummies(train, columns=['Sex', 'Embarked','Group','Cabin_alpha']).drop(['Sex_female','Group_False'],1)\n",
    "## binary 인 sex/group 은 sex_female , group_false drop\n",
    "train['Fare_ind'] = np.log1p(train[\"Fare_ind\"])\n",
    "train = train.reset_index().drop('index',1)"
   ]
  },
  {
   "cell_type": "code",
   "execution_count": 10,
   "metadata": {},
   "outputs": [
    {
     "name": "stderr",
     "output_type": "stream",
     "text": [
      "c:\\users\\ina lee\\appdata\\local\\programs\\python\\python37\\lib\\site-packages\\sklearn\\model_selection\\_search.py:841: DeprecationWarning: The default of the `iid` parameter will change from True to False in version 0.22 and will be removed in 0.24. This will change numeric results when test-set sizes are unequal.\n",
      "  DeprecationWarning)\n"
     ]
    },
    {
     "data": {
      "text/plain": [
       "GridSearchCV(cv=5, error_score='raise-deprecating',\n",
       "       estimator=GradientBoostingClassifier(criterion='friedman_mse', init=None,\n",
       "              learning_rate=0.1, loss='deviance', max_depth=3,\n",
       "              max_features=None, max_leaf_nodes=None,\n",
       "              min_impurity_decrease=0.0, min_impurity_split=None,\n",
       "              min_samples_leaf=1, min_sampl...      subsample=1.0, tol=0.0001, validation_fraction=0.1,\n",
       "              verbose=0, warm_start=False),\n",
       "       fit_params=None, iid='warn', n_jobs=None,\n",
       "       param_grid={'n_estimators': [5, 50, 250, 500], 'max_depth': [1, 3, 5, 7, 9], 'learning_rate': [0.01, 0.1, 1, 10, 100]},\n",
       "       pre_dispatch='2*n_jobs', refit=True, return_train_score='warn',\n",
       "       scoring=None, verbose=0)"
      ]
     },
     "execution_count": 10,
     "metadata": {},
     "output_type": "execute_result"
    }
   ],
   "source": [
    "gb_model = GradientBoostingClassifier(random_state=0) \n",
    "params = {\"n_estimators\":[5,50,250,500],\n",
    "    \"max_depth\":[1,3,5,7,9],\n",
    "    \"learning_rate\":[0.01,0.1,1,10,100]}\n",
    "gs = GridSearchCV(gb_model,cv=5, param_grid=params)\n",
    "gs.fit(train,target)"
   ]
  },
  {
   "cell_type": "code",
   "execution_count": 11,
   "metadata": {},
   "outputs": [
    {
     "data": {
      "text/plain": [
       "0.8278965129358831"
      ]
     },
     "execution_count": 11,
     "metadata": {},
     "output_type": "execute_result"
    }
   ],
   "source": [
    "gs.best_score_"
   ]
  }
 ],
 "metadata": {
  "kernelspec": {
   "display_name": "Python 3",
   "language": "python",
   "name": "python3"
  },
  "language_info": {
   "codemirror_mode": {
    "name": "ipython",
    "version": 3
   },
   "file_extension": ".py",
   "mimetype": "text/x-python",
   "name": "python",
   "nbconvert_exporter": "python",
   "pygments_lexer": "ipython3",
   "version": "3.7.0"
  }
 },
 "nbformat": 4,
 "nbformat_minor": 2
}
